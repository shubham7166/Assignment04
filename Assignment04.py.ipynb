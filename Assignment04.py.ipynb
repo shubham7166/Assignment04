{
 "cells": [
  {
   "cell_type": "code",
   "execution_count": 1,
   "id": "69e2601f",
   "metadata": {},
   "outputs": [
    {
     "data": {
      "text/plain": [
       "[35, 45, 55]"
      ]
     },
     "execution_count": 1,
     "metadata": {},
     "output_type": "execute_result"
    }
   ],
   "source": [
    "#Write a Python program to create a lambda function that adds 25 to a given number passed in as an argument.\n",
    "\n",
    "l =[10,20,30]\n",
    "list(map(lambda add: add+25,l))"
   ]
  },
  {
   "cell_type": "code",
   "execution_count": null,
   "id": "4de31a4d",
   "metadata": {},
   "outputs": [],
   "source": []
  },
  {
   "cell_type": "code",
   "execution_count": 3,
   "id": "4a336d3c",
   "metadata": {},
   "outputs": [
    {
     "data": {
      "text/plain": [
       "[3, 6, 9, 12, 15, 18, 21]"
      ]
     },
     "execution_count": 3,
     "metadata": {},
     "output_type": "execute_result"
    }
   ],
   "source": [
    "#Write a Python program to triple all numbers of a given list of integers. Use Python map.\n",
    "\n",
    "s = [1,2,3,4,5,6,7]\n",
    "\n",
    "def triple(i):\n",
    "    return 3*i\n",
    "\n",
    "list(map(triple,s))"
   ]
  },
  {
   "cell_type": "code",
   "execution_count": null,
   "id": "575fdd15",
   "metadata": {},
   "outputs": [],
   "source": []
  },
  {
   "cell_type": "code",
   "execution_count": 5,
   "id": "510eb6b9",
   "metadata": {},
   "outputs": [
    {
     "data": {
      "text/plain": [
       "[16, 25, 4, 81]"
      ]
     },
     "execution_count": 5,
     "metadata": {},
     "output_type": "execute_result"
    }
   ],
   "source": [
    "#Write a Python program to square the elements of a list using map() function.\n",
    "\n",
    "list1 = [4,5,2,9]\n",
    "\n",
    "list(map(lambda sq: sq**2,list1))"
   ]
  },
  {
   "cell_type": "code",
   "execution_count": null,
   "id": "c5f0b3ab",
   "metadata": {},
   "outputs": [],
   "source": []
  }
 ],
 "metadata": {
  "kernelspec": {
   "display_name": "Python 3 (ipykernel)",
   "language": "python",
   "name": "python3"
  },
  "language_info": {
   "codemirror_mode": {
    "name": "ipython",
    "version": 3
   },
   "file_extension": ".py",
   "mimetype": "text/x-python",
   "name": "python",
   "nbconvert_exporter": "python",
   "pygments_lexer": "ipython3",
   "version": "3.9.6"
  }
 },
 "nbformat": 4,
 "nbformat_minor": 5
}
